{
 "cells": [
  {
   "cell_type": "markdown",
   "id": "5804cff3",
   "metadata": {},
   "source": [
    "                                                                                                               בס״ד\n",
    "#### This notebook is part of the main notebook for my semester project: Parking Project.\n",
    "\n",
    "This notebook loads in the [\"Open Parking and Camera Violations\"](https://data.cityofnewyork.us/City-Government/Open-Parking-and-Camera-Violations/nc67-uf89) dataset and includes feature engineering so that it is fit to be merged with the \"Parking Violations\" dataset in the \"Parking Project\" notebook."
   ]
  },
  {
   "cell_type": "code",
   "execution_count": 1,
   "id": "ba516462",
   "metadata": {},
   "outputs": [],
   "source": [
    "import pandas as pd\n",
    "\n",
    "# download dataset of Open Parking and Camera Violations and read it into dataframe\n",
    "status = pd.read_csv('guilty.zip', usecols=['Plate', 'Summons Number', 'Issue Date', 'Violation Status'])"
   ]
  },
  {
   "cell_type": "code",
   "execution_count": 2,
   "id": "994fe396",
   "metadata": {},
   "outputs": [
    {
     "name": "stdout",
     "output_type": "stream",
     "text": [
      "<class 'pandas.core.frame.DataFrame'>\n",
      "RangeIndex: 27867325 entries, 0 to 27867324\n",
      "Data columns (total 4 columns):\n",
      " #   Column            Dtype  \n",
      "---  ------            -----  \n",
      " 0   Plate             object \n",
      " 1   Summons Number    float64\n",
      " 2   Issue Date        object \n",
      " 3   Violation Status  object \n",
      "dtypes: float64(1), object(3)\n",
      "memory usage: 850.4+ MB\n"
     ]
    }
   ],
   "source": [
    "originalStatus = status.copy() # make copy of original dataframe so that we can refer to it later if needed\n",
    "\n",
    "status.info()"
   ]
  },
  {
   "cell_type": "code",
   "execution_count": 3,
   "id": "e133d9aa",
   "metadata": {},
   "outputs": [],
   "source": [
    "status.rename(columns={\"Plate\": \"Plate ID\"}, inplace=True) # rename col to match \"Parking Violations\" col"
   ]
  },
  {
   "cell_type": "code",
   "execution_count": 4,
   "id": "da2d8da7",
   "metadata": {},
   "outputs": [],
   "source": [
    "status = status.dropna(subset=['Issue Date']) # drop rows with null in Issue Date col\n",
    "status = status[status[\"Issue Date\"].str.contains('2021')] # only include rows with Issue Date in year 2021"
   ]
  },
  {
   "cell_type": "code",
   "execution_count": 5,
   "id": "90e8391b",
   "metadata": {},
   "outputs": [
    {
     "data": {
      "text/plain": [
       "array(['HEARING HELD-GUILTY REDUCTION', nan, 'HEARING HELD-GUILTY',\n",
       "       'HEARING HELD-NOT GUILTY', 'ADMIN REDUCTION', 'HEARING PENDING',\n",
       "       'APPEAL AFFIRMED', 'HEARING ADJOURNMENT', 'ADMIN CLAIM DENIED',\n",
       "       'APPEAL REVERSED', 'APPEAL ABANDONED', 'ADMIN CLAIM GRANTED',\n",
       "       'APPEAL MODIFIED', 'HEARING HELD-REINSTATEMENT', 'APPEAL REMANDED'],\n",
       "      dtype=object)"
      ]
     },
     "execution_count": 5,
     "metadata": {},
     "output_type": "execute_result"
    }
   ],
   "source": [
    "# Display all possible entries in Violation Status \n",
    "status[\"Violation Status\"].unique() "
   ]
  },
  {
   "cell_type": "code",
   "execution_count": 6,
   "id": "91cce9dc",
   "metadata": {},
   "outputs": [
    {
     "name": "stdout",
     "output_type": "stream",
     "text": [
      "Not Guilty: 210259\n",
      "Appeal Reversed: 1827\n",
      "Guilty: 515436\n",
      "Guilty Reduced: 434087\n",
      "Null: 3168283\n"
     ]
    }
   ],
   "source": [
    "not_guilty =      (status[\"Violation Status\"] == \"HEARING HELD-NOT GUILTY\").sum() # number of people not guilty \n",
    "appeal_reversed = (status[\"Violation Status\"] == \"APPEAL REVERSED\").sum() \n",
    "guilty =          (status[\"Violation Status\"] == \"HEARING HELD-GUILTY\").sum()\n",
    "guilty_reduced =  (status[\"Violation Status\"] == \"HEARING HELD-GUILTY REDUCTION\").sum()\n",
    "null =            status[\"Violation Status\"].isnull().sum()\n",
    "\n",
    "print(\"Not Guilty:\", not_guilty)\n",
    "print(\"Appeal Reversed:\", appeal_reversed)\n",
    "print(\"Guilty:\", guilty)\n",
    "print(\"Guilty Reduced:\", guilty_reduced)\n",
    "print(\"Null:\", null)"
   ]
  },
  {
   "cell_type": "markdown",
   "id": "e3088b4f",
   "metadata": {},
   "source": [
    "Now we will create a dataframe with parking violations that are documented to be either guilty or not guilty. We will consider a violation status of \"HEARING HELD-GUILTY\" and \"HEARING HELD-GUILTY REDUCTION\" as guilty, while we will consider a status of \"HEARING HELD-NOT GUILTY\" and \"APPEAL REVERSED\" as innocent. \n",
    "\n",
    "Once we have a new, reduced dataframe, we can mark rows that are innocent with a 1 and rows that are guilty with a 0."
   ]
  },
  {
   "cell_type": "code",
   "execution_count": 7,
   "id": "93ae9a7e",
   "metadata": {},
   "outputs": [],
   "source": [
    "statusDF = status[status[\"Violation Status\"].isin([\"HEARING HELD-GUILTY\", \"HEARING HELD-GUILTY REDUCTION\", \n",
    "                                        \"HEARING HELD-NOT GUILTY\", \"APPEAL REVERSED\"])]"
   ]
  },
  {
   "cell_type": "code",
   "execution_count": 8,
   "id": "11ee9af3",
   "metadata": {},
   "outputs": [
    {
     "name": "stderr",
     "output_type": "stream",
     "text": [
      "/opt/tljh/user/lib/python3.7/site-packages/pandas/core/indexing.py:1817: SettingWithCopyWarning: \n",
      "A value is trying to be set on a copy of a slice from a DataFrame.\n",
      "Try using .loc[row_indexer,col_indexer] = value instead\n",
      "\n",
      "See the caveats in the documentation: https://pandas.pydata.org/pandas-docs/stable/user_guide/indexing.html#returning-a-view-versus-a-copy\n",
      "  self._setitem_single_column(loc, value, pi)\n"
     ]
    }
   ],
   "source": [
    "# innocent = 1\n",
    "statusDF.loc[(status['Violation Status'] == \"HEARING HELD-NOT GUILTY\") |\n",
    "             (status['Violation Status'] == \"APPEAL REVERSED\"), 'Violation Status'] = 1 "
   ]
  },
  {
   "cell_type": "code",
   "execution_count": 9,
   "id": "738006be",
   "metadata": {},
   "outputs": [],
   "source": [
    "# guilty = 0\n",
    "statusDF.loc[(status['Violation Status'] == \"HEARING HELD-GUILTY\") |\n",
    "             (status['Violation Status'] == \"HEARING HELD-GUILTY REDUCTION\"), 'Violation Status'] = 0 "
   ]
  },
  {
   "cell_type": "code",
   "execution_count": 10,
   "id": "74e67388",
   "metadata": {
    "scrolled": true
   },
   "outputs": [
    {
     "data": {
      "text/html": [
       "<div>\n",
       "<style scoped>\n",
       "    .dataframe tbody tr th:only-of-type {\n",
       "        vertical-align: middle;\n",
       "    }\n",
       "\n",
       "    .dataframe tbody tr th {\n",
       "        vertical-align: top;\n",
       "    }\n",
       "\n",
       "    .dataframe thead th {\n",
       "        text-align: right;\n",
       "    }\n",
       "</style>\n",
       "<table border=\"1\" class=\"dataframe\">\n",
       "  <thead>\n",
       "    <tr style=\"text-align: right;\">\n",
       "      <th></th>\n",
       "      <th>Plate ID</th>\n",
       "      <th>Summons Number</th>\n",
       "      <th>Issue Date</th>\n",
       "      <th>Violation Status</th>\n",
       "    </tr>\n",
       "  </thead>\n",
       "  <tbody>\n",
       "    <tr>\n",
       "      <th>2</th>\n",
       "      <td>Z84JNV</td>\n",
       "      <td>4.724985e+09</td>\n",
       "      <td>03/08/2021</td>\n",
       "      <td>0</td>\n",
       "    </tr>\n",
       "    <tr>\n",
       "      <th>5</th>\n",
       "      <td>81220MH</td>\n",
       "      <td>4.724985e+09</td>\n",
       "      <td>03/08/2021</td>\n",
       "      <td>0</td>\n",
       "    </tr>\n",
       "    <tr>\n",
       "      <th>42</th>\n",
       "      <td>T672719C</td>\n",
       "      <td>4.724986e+09</td>\n",
       "      <td>03/08/2021</td>\n",
       "      <td>0</td>\n",
       "    </tr>\n",
       "    <tr>\n",
       "      <th>45</th>\n",
       "      <td>HLX4818</td>\n",
       "      <td>4.724986e+09</td>\n",
       "      <td>03/08/2021</td>\n",
       "      <td>0</td>\n",
       "    </tr>\n",
       "    <tr>\n",
       "      <th>48</th>\n",
       "      <td>77645</td>\n",
       "      <td>8.936654e+09</td>\n",
       "      <td>05/25/2021</td>\n",
       "      <td>1</td>\n",
       "    </tr>\n",
       "    <tr>\n",
       "      <th>...</th>\n",
       "      <td>...</td>\n",
       "      <td>...</td>\n",
       "      <td>...</td>\n",
       "      <td>...</td>\n",
       "    </tr>\n",
       "    <tr>\n",
       "      <th>27622695</th>\n",
       "      <td>89328MJ</td>\n",
       "      <td>4.016558e+09</td>\n",
       "      <td>02/25/2021</td>\n",
       "      <td>0</td>\n",
       "    </tr>\n",
       "    <tr>\n",
       "      <th>27641194</th>\n",
       "      <td>A81FPT</td>\n",
       "      <td>4.016572e+09</td>\n",
       "      <td>02/26/2021</td>\n",
       "      <td>0</td>\n",
       "    </tr>\n",
       "    <tr>\n",
       "      <th>27685735</th>\n",
       "      <td>68570MN</td>\n",
       "      <td>4.016577e+09</td>\n",
       "      <td>02/26/2021</td>\n",
       "      <td>1</td>\n",
       "    </tr>\n",
       "    <tr>\n",
       "      <th>27716862</th>\n",
       "      <td>60736MG</td>\n",
       "      <td>4.016572e+09</td>\n",
       "      <td>02/26/2021</td>\n",
       "      <td>0</td>\n",
       "    </tr>\n",
       "    <tr>\n",
       "      <th>27773147</th>\n",
       "      <td>218ZMD</td>\n",
       "      <td>1.486337e+09</td>\n",
       "      <td>12/10/2021</td>\n",
       "      <td>1</td>\n",
       "    </tr>\n",
       "  </tbody>\n",
       "</table>\n",
       "<p>1161609 rows × 4 columns</p>\n",
       "</div>"
      ],
      "text/plain": [
       "          Plate ID  Summons Number  Issue Date Violation Status\n",
       "2           Z84JNV    4.724985e+09  03/08/2021                0\n",
       "5          81220MH    4.724985e+09  03/08/2021                0\n",
       "42        T672719C    4.724986e+09  03/08/2021                0\n",
       "45         HLX4818    4.724986e+09  03/08/2021                0\n",
       "48           77645    8.936654e+09  05/25/2021                1\n",
       "...            ...             ...         ...              ...\n",
       "27622695   89328MJ    4.016558e+09  02/25/2021                0\n",
       "27641194    A81FPT    4.016572e+09  02/26/2021                0\n",
       "27685735   68570MN    4.016577e+09  02/26/2021                1\n",
       "27716862   60736MG    4.016572e+09  02/26/2021                0\n",
       "27773147    218ZMD    1.486337e+09  12/10/2021                1\n",
       "\n",
       "[1161609 rows x 4 columns]"
      ]
     },
     "execution_count": 10,
     "metadata": {},
     "output_type": "execute_result"
    }
   ],
   "source": [
    "# display modified dataframe\n",
    "statusDF"
   ]
  },
  {
   "cell_type": "markdown",
   "id": "9efb475a",
   "metadata": {},
   "source": [
    "Great! We are now ready to merge this dataframe with our \"Parking Violations\" dataframe!  "
   ]
  },
  {
   "cell_type": "code",
   "execution_count": 11,
   "id": "11a24c7e",
   "metadata": {},
   "outputs": [],
   "source": [
    "# save modified dataframe to csv file\n",
    "statusDF.to_csv('violation_status.csv', index=False)"
   ]
  }
 ],
 "metadata": {
  "kernelspec": {
   "display_name": "Python 3 (ipykernel)",
   "language": "python",
   "name": "python3"
  },
  "language_info": {
   "codemirror_mode": {
    "name": "ipython",
    "version": 3
   },
   "file_extension": ".py",
   "mimetype": "text/x-python",
   "name": "python",
   "nbconvert_exporter": "python",
   "pygments_lexer": "ipython3",
   "version": "3.7.3"
  }
 },
 "nbformat": 4,
 "nbformat_minor": 5
}
